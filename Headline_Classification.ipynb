{
 "cells": [
  {
   "cell_type": "code",
   "execution_count": 1,
   "metadata": {},
   "outputs": [],
   "source": [
    "import json\n",
    "import pandas as pd\n",
    "import tensorflow as tf\n",
    "import numpy as np\n",
    "from tensorflow.keras.preprocessing.text import Tokenizer\n",
    "from tensorflow.keras.preprocessing.sequence import pad_sequences\n",
    "from sklearn.model_selection import train_test_split\n",
    "import sklearn\n",
    "import nltk"
   ]
  },
  {
   "cell_type": "code",
   "execution_count": 2,
   "metadata": {},
   "outputs": [],
   "source": [
    "vocab_size = 18000\n",
    "embedding_dim = 128\n",
    "max_length = 12\n",
    "filters = 250\n",
    "kernel_size = 3\n",
    "trunc_type='post'\n",
    "padding_type='post'\n",
    "oov_tok = \"<OOV>\"\n",
    "training_portion = .8"
   ]
  },
  {
   "cell_type": "code",
   "execution_count": 3,
   "metadata": {},
   "outputs": [
    {
     "name": "stdout",
     "output_type": "stream",
     "text": [
      "153\n"
     ]
    }
   ],
   "source": [
    "stopwords = [ \"a\", \"about\", \"above\", \"after\", \"again\", \"against\", \"all\", \"am\", \"an\", \"and\", \"any\", \"are\", \"as\", \"at\", \"be\", \"because\", \"been\", \"before\", \"being\", \"below\", \"between\", \"both\", \"but\", \"by\", \"could\", \"did\", \"do\", \"does\", \"doing\", \"down\", \"during\", \"each\", \"few\", \"for\", \"from\", \"further\", \"had\", \"has\", \"have\", \"having\", \"he\", \"he'd\", \"he'll\", \"he's\", \"her\", \"here\", \"here's\", \"hers\", \"herself\", \"him\", \"himself\", \"his\", \"how\", \"how's\", \"i\", \"i'd\", \"i'll\", \"i'm\", \"i've\", \"if\", \"in\", \"into\", \"is\", \"it\", \"it's\", \"its\", \"itself\", \"let's\", \"me\", \"more\", \"most\", \"my\", \"myself\", \"nor\", \"of\", \"on\", \"once\", \"only\", \"or\", \"other\", \"ought\", \"our\", \"ours\", \"ourselves\", \"out\", \"over\", \"own\", \"same\", \"she\", \"she'd\", \"she'll\", \"she's\", \"should\", \"so\", \"some\", \"such\", \"than\", \"that\", \"that's\", \"the\", \"their\", \"theirs\", \"them\", \"themselves\", \"then\", \"there\", \"there's\", \"these\", \"they\", \"they'd\", \"they'll\", \"they're\", \"they've\", \"this\", \"those\", \"through\", \"to\", \"too\", \"under\", \"until\", \"up\", \"very\", \"was\", \"we\", \"we'd\", \"we'll\", \"we're\", \"we've\", \"were\", \"what\", \"what's\", \"when\", \"when's\", \"where\", \"where's\", \"which\", \"while\", \"who\", \"who's\", \"whom\", \"why\", \"why's\", \"with\", \"would\", \"you\", \"you'd\", \"you'll\", \"you're\", \"you've\", \"your\", \"yours\", \"yourself\", \"yourselves\" ]\n",
    "punctuations = '''!()-[]{};:'\"\\,<>./?@#$%^&*_~'''\n",
    "print(len(stopwords))\n",
    "# Expected Output\n",
    "# 153"
   ]
  },
  {
   "cell_type": "code",
   "execution_count": 4,
   "metadata": {},
   "outputs": [
    {
     "name": "stdout",
     "output_type": "stream",
     "text": [
      "2496\n",
      "2496\n"
     ]
    }
   ],
   "source": [
    "data = pd.read_csv('Dataset.csv')\n",
    "\n",
    "labels = list(pd.Series(data['category']).str.lower())\n",
    "headlines = list(pd.Series(data['headline']).str.lower())\n",
    "\n",
    "for i in range(0,len(headlines)):\n",
    "    headline = headlines[i]\n",
    "    for word in stopwords:\n",
    "        token = \" \" + word + \" \"\n",
    "        headline = headline.replace(token, \" \")\n",
    "    no_punct = ''\n",
    "    for char in headline:\n",
    "        if char not in punctuations:\n",
    "            no_punct = no_punct + char\n",
    "    headlines[i] = no_punct\n",
    "print(len(labels))\n",
    "print(len(headlines))\n",
    "#print(headlines[0:100])"
   ]
  },
  {
   "cell_type": "code",
   "execution_count": 5,
   "metadata": {},
   "outputs": [
    {
     "name": "stdout",
     "output_type": "stream",
     "text": [
      "{'business', 'entertainment', 'sports', 'medical', 'tech'}\n"
     ]
    }
   ],
   "source": [
    "print(set(labels))"
   ]
  },
  {
   "cell_type": "code",
   "execution_count": 6,
   "metadata": {},
   "outputs": [
    {
     "name": "stdout",
     "output_type": "stream",
     "text": [
      "1996\n",
      "1996\n",
      "500\n",
      "500\n"
     ]
    }
   ],
   "source": [
    "# train_headlines, validation_headlines, train_labels, validation_labels = train_test_split(headlines, labels, test_size=0.2)\n",
    "train_size = int(training_portion*len(headlines))\n",
    "train_headlines = headlines[:train_size]\n",
    "train_labels = labels[:train_size]\n",
    "validation_headlines = headlines[train_size:]\n",
    "validation_labels = labels[train_size:]\n",
    "print(len(train_headlines))\n",
    "print(len(train_labels))\n",
    "print(len(validation_headlines))\n",
    "print(len(validation_labels))\n",
    "\n"
   ]
  },
  {
   "cell_type": "code",
   "execution_count": 7,
   "metadata": {},
   "outputs": [
    {
     "name": "stdout",
     "output_type": "stream",
     "text": [
      "23065\n",
      "143\n",
      "12\n",
      "119\n",
      "12\n"
     ]
    }
   ],
   "source": [
    "tokenizer = Tokenizer(num_words = vocab_size, oov_token = oov_tok)\n",
    "tokenizer.fit_on_texts(train_headlines)\n",
    "word_index = tokenizer.word_index\n",
    "\n",
    "train_sequences = tokenizer.texts_to_sequences(train_headlines)\n",
    "train_padded = pad_sequences(train_sequences, padding=padding_type, maxlen=max_length, truncating=trunc_type)\n",
    "\n",
    "print(len(word_index))\n",
    "print(len(train_sequences[0]))\n",
    "print(len(train_padded[0]))\n",
    "\n",
    "print(len(train_sequences[1]))\n",
    "print(len(train_padded[1]))"
   ]
  },
  {
   "cell_type": "code",
   "execution_count": 8,
   "metadata": {},
   "outputs": [
    {
     "name": "stdout",
     "output_type": "stream",
     "text": [
      "500\n",
      "(500, 12)\n"
     ]
    }
   ],
   "source": [
    "validation_sequences = tokenizer.texts_to_sequences(validation_headlines)\n",
    "validation_padded = pad_sequences(validation_sequences, padding=padding_type, maxlen=max_length, truncating=trunc_type)\n",
    "\n",
    "print(len(validation_sequences))\n",
    "print(validation_padded.shape)"
   ]
  },
  {
   "cell_type": "code",
   "execution_count": 9,
   "metadata": {},
   "outputs": [],
   "source": [
    "label_tokenizer = Tokenizer()\n",
    "label_tokenizer.fit_on_texts(labels)\n",
    "\n",
    "training_label_seq = np.array(label_tokenizer.texts_to_sequences(train_labels))\n",
    "validation_label_seq = np.array(label_tokenizer.texts_to_sequences(validation_labels))\n",
    "\n",
    "padded_validation_label_seq = pad_sequences(validation_label_seq, padding=padding_type, maxlen=1, truncating=trunc_type)\n",
    "train_lables_padded = pad_sequences(training_label_seq, padding=padding_type, maxlen=1, truncating=trunc_type)\n",
    "\n",
    "category_word_index = label_tokenizer.word_index"
   ]
  },
  {
   "cell_type": "code",
   "execution_count": 10,
   "metadata": {},
   "outputs": [
    {
     "name": "stdout",
     "output_type": "stream",
     "text": [
      "Model: \"sequential\"\n",
      "_________________________________________________________________\n",
      "Layer (type)                 Output Shape              Param #   \n",
      "=================================================================\n",
      "embedding (Embedding)        (None, 12, 128)           2304000   \n",
      "_________________________________________________________________\n",
      "dropout (Dropout)            (None, 12, 128)           0         \n",
      "_________________________________________________________________\n",
      "conv1d (Conv1D)              (None, 4, 250)            96250     \n",
      "_________________________________________________________________\n",
      "max_pooling1d (MaxPooling1D) (None, 2, 250)            0         \n",
      "_________________________________________________________________\n",
      "global_average_pooling1d (Gl (None, 250)               0         \n",
      "_________________________________________________________________\n",
      "dense (Dense)                (None, 48)                12048     \n",
      "_________________________________________________________________\n",
      "dense_1 (Dense)              (None, 6)                 294       \n",
      "=================================================================\n",
      "Total params: 2,412,592\n",
      "Trainable params: 2,412,592\n",
      "Non-trainable params: 0\n",
      "_________________________________________________________________\n"
     ]
    }
   ],
   "source": [
    "model = tf.keras.Sequential([\n",
    "    tf.keras.layers.Embedding(vocab_size, embedding_dim, input_length = max_length),\n",
    "    tf.keras.layers.Dropout(0.2),\n",
    "    tf.keras.layers.Conv1D(filters, kernel_size, padding='valid', activation='relu', strides=3),\n",
    "    tf.keras.layers.MaxPooling1D(pool_size=2),\n",
    "    tf.keras.layers.GlobalAveragePooling1D(),\n",
    "    tf.keras.layers.Dense(48, activation = 'sigmoid'),\n",
    "    tf.keras.layers.Dense(6, activation = 'softmax')\n",
    "])\n",
    "\n",
    "model.compile(loss = 'sparse_categorical_crossentropy', optimizer = tf.keras.optimizers.Adam(lr=0.0008), metrics=['acc'])\n",
    "model.summary()"
   ]
  },
  {
   "cell_type": "code",
   "execution_count": 11,
   "metadata": {},
   "outputs": [
    {
     "name": "stdout",
     "output_type": "stream",
     "text": [
      "Train on 1996 samples, validate on 500 samples\n",
      "Epoch 1/8\n",
      "1996/1996 - 3s - loss: 1.6597 - acc: 0.2450 - val_loss: 1.5863 - val_acc: 0.2940\n",
      "Epoch 2/8\n",
      "1996/1996 - 2s - loss: 1.3655 - acc: 0.6022 - val_loss: 1.1532 - val_acc: 0.6160\n",
      "Epoch 3/8\n",
      "1996/1996 - 3s - loss: 0.5566 - acc: 0.9254 - val_loss: 0.5916 - val_acc: 0.8340\n",
      "Epoch 4/8\n",
      "1996/1996 - 2s - loss: 0.1579 - acc: 0.9935 - val_loss: 0.4669 - val_acc: 0.8560\n",
      "Epoch 5/8\n",
      "1996/1996 - 3s - loss: 0.0725 - acc: 0.9985 - val_loss: 0.4301 - val_acc: 0.8680\n",
      "Epoch 6/8\n",
      "1996/1996 - 3s - loss: 0.0458 - acc: 0.9995 - val_loss: 0.4184 - val_acc: 0.8640\n",
      "Epoch 7/8\n",
      "1996/1996 - 2s - loss: 0.0331 - acc: 1.0000 - val_loss: 0.4124 - val_acc: 0.8640\n",
      "Epoch 8/8\n",
      "1996/1996 - 2s - loss: 0.0258 - acc: 1.0000 - val_loss: 0.4074 - val_acc: 0.8740\n"
     ]
    }
   ],
   "source": [
    "num_epochs = 8\n",
    "history = model.fit(train_padded, train_lables_padded, epochs = num_epochs, validation_data=(validation_padded, padded_validation_label_seq), verbose = 2)"
   ]
  },
  {
   "cell_type": "code",
   "execution_count": 14,
   "metadata": {
    "scrolled": true
   },
   "outputs": [
    {
     "data": {
      "image/png": "[encoded data removed]",
      "text/plain": [
       "<Figure size 432x288 with 1 Axes>"
      ]
     },
     "metadata": {
      "needs_background": "light"
     },
     "output_type": "display_data"
    },
    {
     "data": {
      "image/png": "[encoded data removed]",
      "text/plain": [
       "<Figure size 432x288 with 1 Axes>"
      ]
     },
     "metadata": {
      "needs_background": "light"
     },
     "output_type": "display_data"
    }
   ],
   "source": [
    "import matplotlib.pyplot as plt\n",
    "\n",
    "def plot_graphs(history, string):\n",
    "\n",
    "  plt.plot(history.history[string])\n",
    "  plt.plot(history.history['val_'+string])\n",
    "  plt.xlabel(\"Epochs\")\n",
    "  plt.ylabel(string)\n",
    "  plt.legend([string, 'val_'+string])\n",
    "  plt.show()\n",
    "  \n",
    "plot_graphs(history, \"acc\")\n",
    "plot_graphs(history, \"loss\")"
   ]
  },
  {
   "cell_type": "code",
   "execution_count": 15,
   "metadata": {},
   "outputs": [],
   "source": [
    "def clean_data(sentence):\n",
    "    stopwords = [ \"a\", \"about\", \"above\", \"after\", \"again\", \"against\", \"all\", \"am\", \"an\", \"and\", \"any\", \"are\", \"as\", \"at\", \"be\", \"because\", \"been\", \"before\", \"being\", \"below\", \"between\", \"both\", \"but\", \"by\", \"could\", \"did\", \"do\", \"does\", \"doing\", \"down\", \"during\", \"each\", \"few\", \"for\", \"from\", \"further\", \"had\", \"has\", \"have\", \"having\", \"he\", \"he'd\", \"he'll\", \"he's\", \"her\", \"here\", \"here's\", \"hers\", \"herself\", \"him\", \"himself\", \"his\", \"how\", \"how's\", \"i\", \"i'd\", \"i'll\", \"i'm\", \"i've\", \"if\", \"in\", \"into\", \"is\", \"it\", \"it's\", \"its\", \"itself\", \"let's\", \"me\", \"more\", \"most\", \"my\", \"myself\", \"nor\", \"of\", \"on\", \"once\", \"only\", \"or\", \"other\", \"ought\", \"our\", \"ours\", \"ourselves\", \"out\", \"over\", \"own\", \"same\", \"she\", \"she'd\", \"she'll\", \"she's\", \"should\", \"so\", \"some\", \"such\", \"than\", \"that\", \"that's\", \"the\", \"their\", \"theirs\", \"them\", \"themselves\", \"then\", \"there\", \"there's\", \"these\", \"they\", \"they'd\", \"they'll\", \"they're\", \"they've\", \"this\", \"those\", \"through\", \"to\", \"too\", \"under\", \"until\", \"up\", \"very\", \"was\", \"we\", \"we'd\", \"we'll\", \"we're\", \"we've\", \"were\", \"what\", \"what's\", \"when\", \"when's\", \"where\", \"where's\", \"which\", \"while\", \"who\", \"who's\", \"whom\", \"why\", \"why's\", \"with\", \"would\", \"you\", \"you'd\", \"you'll\", \"you're\", \"you've\", \"your\", \"yours\", \"yourself\", \"yourselves\" ]\n",
    "    punctuations = '''!()-[]{};:'\"\\,<>./?@#$%^&*_~'''\n",
    "\n",
    "    sentence = sentence.lower()\n",
    "    for word in stopwords:\n",
    "        token = \" \" + word + \" \"\n",
    "        sentence = sentence.replace(token, \" \")\n",
    "    no_punct = ''\n",
    "    for char in sentence:\n",
    "        if char not in punctuations:\n",
    "            no_punct = no_punct + char\n",
    "    sentence = no_punct\n",
    "    \n",
    "    return sentence"
   ]
  },
  {
   "cell_type": "code",
   "execution_count": 17,
   "metadata": {},
   "outputs": [],
   "source": [
    "test_headline_uncleaned = ['Maruti Suzukis profit to recover on demand for small cars']\n",
    "test_headline_uncleaned.append('Federal Reserve Chair Warns Of Lasting Economic Damage From Pandemic')\n",
    "\n",
    "test_headline_uncleaned.append('Facebook Buys Giphy to Integrate GIF Website With Instagram')\n",
    "test_headline_uncleaned.append('Samsung Frame TV 2020 Lineup Set to Launch in India Next Week, Flipkart Teases Availability')\n",
    "\n",
    "test_headline_uncleaned.append('Staggered start for 800m, skin-tight gloves: World Athletics studying possible safety options')\n",
    "test_headline_uncleaned.append('Women T20 World Cup Final: Australian dominance continues as hosts beat India to lift fifth title')\n",
    "\n",
    "test_headline_uncleaned.append('I am a Doctor, And I am Losing Patients To A Deadly Side Effect Of The Pandemic')\n",
    "test_headline_uncleaned.append('9 causes of a stuffy nose and a headache')\n",
    "\n",
    "test_headline_uncleaned.append('Miley cirus performs the climb during virtual graduation')\n",
    "test_headline_uncleaned.append('See Every Star at the 2020 Nickelodeon Kids Choice Awards: Celebrate Together Show')\n",
    "\n",
    "test_headlines = list()\n",
    "\n",
    "for line in test_headline_uncleaned:\n",
    "    test_headlines.append(clean_data(line))\n",
    "\n",
    "test_headlines_sequence = tokenizer.texts_to_sequences(test_headlines)\n",
    "test_headlines_padded = pad_sequences(test_headlines_sequence, padding = padding_type, maxlen=max_length, truncating=trunc_type)"
   ]
  },
  {
   "cell_type": "code",
   "execution_count": 18,
   "metadata": {},
   "outputs": [
    {
     "name": "stdout",
     "output_type": "stream",
     "text": [
      " medical\n",
      " business\n",
      " medical\n",
      " tech\n",
      " sports\n",
      " sports\n",
      " medical\n",
      " medical\n",
      " entertainment\n",
      " entertainment\n"
     ]
    }
   ],
   "source": [
    "prediction = model.predict(test_headlines_padded)\n",
    "for i in prediction:\n",
    "    x = (np.where(i == np.amax(i)))[0]\n",
    "    for a in category_word_index:\n",
    "        if category_word_index[a] == x:\n",
    "            print('',a)"
   ]
  },
  {
   "cell_type": "code",
   "execution_count": null,
   "metadata": {},
   "outputs": [],
   "source": []
  }
 ],
 "metadata": {
  "kernelspec": {
   "display_name": "Python 3",
   "language": "python",
   "name": "python3"
  },
  "language_info": {
   "codemirror_mode": {
    "name": "ipython",
    "version": 3
   },
   "file_extension": ".py",
   "mimetype": "text/x-python",
   "name": "python",
   "nbconvert_exporter": "python",
   "pygments_lexer": "ipython3",
   "version": "3.7.3"
  }
 },
 "nbformat": 4,
 "nbformat_minor": 2
}
